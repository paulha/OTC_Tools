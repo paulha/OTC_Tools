{
 "cells": [
  {
   "cell_type": "code",
   "execution_count": 1,
   "metadata": {
    "collapsed": false,
    "deletable": true,
    "editable": true
   },
   "outputs": [
    {
     "name": "stdout",
     "output_type": "stream",
     "text": [
      "2017-11-15 08:14:07,005 - root - INFO - Using logging configuration file C:\\Users\\pfhanchx\\Documents\\otc_androidplanning-toolbox\\logging.yaml\n"
     ]
    },
    {
     "name": "stdout",
     "output_type": "stream",
     "text": [
      "2017-11-15 08:14:08,855 - root - INFO - Using JIRA server jira-t3, 'https://jira-t3.devtools.intel.com'\n"
     ]
    },
    {
     "name": "stdout",
     "output_type": "stream",
     "text": [
      "2017-11-15 08:14:08,857 - root - INFO - Connecting to https://jira-t3.devtools.intel.com using verified connection.\n"
     ]
    }
   ],
   "source": [
    "from os.path import expanduser, pathsep, dirname, realpath\n",
    "import sys\n",
    "# -- todo: Uncomfortable for two different imports from the same module to be handled differently...\n",
    "from utility_funcs.search import get_server_info, search_for_profile\n",
    "import utility_funcs.logger_yaml as log\n",
    "\n",
    "LOG_CONFIG_FILE = 'logging.yaml'+pathsep+dirname(realpath(sys.argv[0]))+'/logging.yaml'\n",
    "CONFIG_FILE = dirname(realpath(sys.argv[0]))+'/config.yaml'+pathsep+'~/.jira/config.yaml'\n",
    "QUERIES_FILE = dirname(realpath(sys.argv[0]))+'/queries.yaml'+pathsep+'~/.jira/queries.yaml'\n",
    "SCENARIO_FILE = 'scenarios.yaml'+pathsep+dirname(realpath(sys.argv[0]))+'/scenarios.yaml'\n",
    "\n",
    "log_file = log.logging.getLogger(\"file\")\n",
    "log.setup_logging(LOG_CONFIG_FILE, override={'handlers': {'info_file_handler': {'filename': 'jupyter.log'}}})\n",
    "\n",
    "from jira_class import Jira, get_query\n",
    "from navigate import *\n",
    "from jira.exceptions import JIRAError\n",
    "jira = Jira('jira-t3', CONFIG_FILE, log.logger)\n",
    "\n",
    "import pandas as pd\n",
    "\n"
   ]
  },
  {
   "cell_type": "code",
   "execution_count": 3,
   "metadata": {
    "collapsed": true,
    "deletable": true,
    "editable": true
   },
   "outputs": [],
   "source": [
    "issue = jira.issue(\"AREQ-1234\")\n",
    "\n"
   ]
  },
  {
   "cell_type": "code",
   "execution_count": 12,
   "metadata": {
    "collapsed": false,
    "deletable": true,
    "editable": true
   },
   "outputs": [
    {
     "data": {
      "text/plain": [
       "<JIRA IssueType: name='E-Feature', id='34'>"
      ]
     },
     "execution_count": 12,
     "metadata": {},
     "output_type": "execute_result"
    }
   ],
   "source": [
    "getattr(issue.fields, 'issuetype')\n"
   ]
  },
  {
   "cell_type": "code",
   "execution_count": 13,
   "metadata": {
    "collapsed": true,
    "deletable": true,
    "editable": true
   },
   "outputs": [
    {
     "data": {
      "text/plain": [
       "<JIRA IssueType: name='E-Feature', id='34'>"
      ]
     },
     "execution_count": 13,
     "metadata": {},
     "output_type": "execute_result"
    }
   ],
   "source": [
    "issue.fields.issuetype"
   ]
  },
  {
   "cell_type": "code",
   "execution_count": 18,
   "metadata": {
    "collapsed": true,
    "deletable": true,
    "editable": true
   },
   "outputs": [
    {
     "data": {
      "text/plain": [
       "['__class__',\n '__delattr__',\n '__dict__',\n '__dir__',\n '__doc__',\n '__eq__',\n '__format__',\n '__ge__',\n '__getattribute__',\n '__gt__',\n '__hash__',\n '__init__',\n '__init_subclass__',\n '__le__',\n '__lt__',\n '__module__',\n '__ne__',\n '__new__',\n '__reduce__',\n '__reduce_ex__',\n '__repr__',\n '__setattr__',\n '__sizeof__',\n '__str__',\n '__subclasshook__',\n '__weakref__',\n 'aggregateprogress',\n 'aggregatetimeestimate',\n 'aggregatetimeoriginalestimate',\n 'aggregatetimespent',\n 'assignee',\n 'attachment',\n 'comment',\n 'components',\n 'created',\n 'creator',\n 'customfield_10102',\n 'customfield_10109',\n 'customfield_10112',\n 'customfield_10113',\n 'customfield_10200',\n 'customfield_10300',\n 'customfield_10502',\n 'customfield_10808',\n 'customfield_10809',\n 'customfield_10811',\n 'customfield_10900',\n 'customfield_11107',\n 'customfield_11111',\n 'customfield_11119',\n 'customfield_11201',\n 'customfield_11202',\n 'customfield_11204',\n 'customfield_11304',\n 'customfield_11400',\n 'customfield_11605',\n 'customfield_11609',\n 'customfield_11700',\n 'customfield_11702',\n 'customfield_11900',\n 'customfield_11902',\n 'customfield_12000',\n 'customfield_12001',\n 'customfield_12002',\n 'customfield_12009',\n 'customfield_12011',\n 'customfield_12100',\n 'customfield_12101',\n 'customfield_12102',\n 'customfield_12103',\n 'customfield_12105',\n 'customfield_12106',\n 'customfield_12107',\n 'customfield_12110',\n 'customfield_12111',\n 'customfield_12112',\n 'customfield_12114',\n 'customfield_12115',\n 'customfield_12118',\n 'customfield_12121',\n 'customfield_12122',\n 'customfield_12123',\n 'customfield_12124',\n 'customfield_12125',\n 'customfield_12127',\n 'customfield_12128',\n 'customfield_12129',\n 'customfield_12201',\n 'customfield_12300',\n 'customfield_12301',\n 'customfield_12302',\n 'customfield_12400',\n 'customfield_12401',\n 'customfield_12515',\n 'customfield_12901',\n 'customfield_12902',\n 'customfield_12903',\n 'customfield_12904',\n 'customfield_12905',\n 'customfield_13103',\n 'customfield_13200',\n 'customfield_13204',\n 'customfield_13205',\n 'customfield_13208',\n 'customfield_13210',\n 'customfield_13214',\n 'customfield_13400',\n 'customfield_13500',\n 'customfield_13600',\n 'customfield_13603',\n 'customfield_13604',\n 'customfield_13605',\n 'customfield_13607',\n 'customfield_13609',\n 'customfield_13611',\n 'customfield_13800',\n 'customfield_13801',\n 'customfield_13802',\n 'customfield_13803',\n 'customfield_13805',\n 'customfield_13806',\n 'customfield_13807',\n 'customfield_13808',\n 'customfield_13809',\n 'customfield_13810',\n 'customfield_13811',\n 'customfield_13812',\n 'customfield_13813',\n 'customfield_13814',\n 'customfield_13815',\n 'customfield_13816',\n 'customfield_13817',\n 'customfield_13818',\n 'customfield_13819',\n 'customfield_13820',\n 'customfield_13821',\n 'customfield_13822',\n 'customfield_14000',\n 'customfield_14100',\n 'customfield_14210',\n 'customfield_14301',\n 'customfield_14302',\n 'customfield_14304',\n 'customfield_14308',\n 'customfield_14504',\n 'customfield_14511',\n 'customfield_14513',\n 'customfield_14603',\n 'customfield_14604',\n 'customfield_14605',\n 'customfield_14606',\n 'customfield_14607',\n 'customfield_14608',\n 'customfield_14609',\n 'customfield_14610',\n 'customfield_14611',\n 'customfield_14612',\n 'customfield_14613',\n 'customfield_14614',\n 'customfield_14615',\n 'customfield_14617',\n 'customfield_14619',\n 'customfield_14620',\n 'customfield_14621',\n 'customfield_14623',\n 'customfield_14624',\n 'customfield_14625',\n 'customfield_14626',\n 'customfield_14627',\n 'customfield_14628',\n 'customfield_14629',\n 'customfield_14700',\n 'customfield_14800',\n 'customfield_14803',\n 'customfield_14804',\n 'customfield_14919',\n 'customfield_15003',\n 'customfield_15004',\n 'customfield_15005',\n 'customfield_15028',\n 'customfield_15100',\n 'customfield_15101',\n 'customfield_15102',\n 'customfield_15103',\n 'customfield_15105',\n 'customfield_15106',\n 'customfield_15107',\n 'customfield_15108',\n 'customfield_15113',\n 'customfield_15224',\n 'customfield_15225',\n 'customfield_15226',\n 'customfield_15301',\n 'customfield_15336',\n 'customfield_15337',\n 'customfield_15500',\n 'customfield_15501',\n 'customfield_15502',\n 'customfield_15503',\n 'customfield_15504',\n 'customfield_15505',\n 'customfield_15506',\n 'customfield_15507',\n 'customfield_15508',\n 'customfield_15509',\n 'customfield_15602',\n 'customfield_15700',\n 'customfield_15800',\n 'customfield_15900',\n 'customfield_15901',\n 'customfield_16100',\n 'customfield_16300',\n 'customfield_16400',\n 'customfield_16401',\n 'customfield_16403',\n 'customfield_16501',\n 'customfield_16502',\n 'customfield_16503',\n 'customfield_16504',\n 'customfield_16505',\n 'customfield_16506',\n 'customfield_16507',\n 'customfield_16508',\n 'customfield_16509',\n 'customfield_16510',\n 'customfield_16511',\n 'customfield_16512',\n 'customfield_16513',\n 'customfield_16600',\n 'customfield_16700',\n 'customfield_16800',\n 'customfield_16801',\n 'customfield_16900',\n 'customfield_16903',\n 'customfield_17000',\n 'customfield_17001',\n 'customfield_17003',\n 'customfield_17100',\n 'customfield_17400',\n 'customfield_17600',\n 'customfield_17602',\n 'customfield_17603',\n 'customfield_17700',\n 'customfield_17701',\n 'customfield_17801',\n 'customfield_17802',\n 'customfield_17803',\n 'customfield_17804',\n 'customfield_17805',\n 'customfield_17806',\n 'customfield_17807',\n 'customfield_17809',\n 'customfield_17810',\n 'customfield_17811',\n 'customfield_17900',\n 'customfield_18000',\n 'customfield_18001',\n 'customfield_18002',\n 'customfield_18003',\n 'customfield_18100',\n 'customfield_18101',\n 'customfield_18102',\n 'customfield_18103',\n 'customfield_18104',\n 'customfield_18105',\n 'customfield_18106',\n 'customfield_18107',\n 'customfield_18200',\n 'customfield_18201',\n 'customfield_18202',\n 'customfield_18203',\n 'customfield_18204',\n 'customfield_18205',\n 'customfield_18206',\n 'customfield_18207',\n 'customfield_18208',\n 'customfield_18209',\n 'customfield_18301',\n 'customfield_18400',\n 'customfield_18500',\n 'customfield_18501',\n 'customfield_18502',\n 'customfield_18600',\n 'customfield_18701',\n 'customfield_18800',\n 'customfield_18801',\n 'customfield_19000',\n 'customfield_19001',\n 'customfield_19002',\n 'customfield_19004',\n 'customfield_19005',\n 'customfield_19100',\n 'customfield_19101',\n 'customfield_19102',\n 'customfield_19103',\n 'customfield_19109',\n 'customfield_19200',\n 'customfield_19202',\n 'customfield_19211',\n 'customfield_19213',\n 'customfield_19500',\n 'customfield_19700',\n 'customfield_19800',\n 'customfield_19900',\n 'customfield_20100',\n 'customfield_20300',\n 'customfield_20400',\n 'customfield_20401',\n 'customfield_20501',\n 'customfield_20602',\n 'customfield_20603',\n 'customfield_20700',\n 'customfield_20800',\n 'customfield_20801',\n 'customfield_20802',\n 'customfield_20803',\n 'customfield_20804',\n 'customfield_20805',\n 'customfield_20806',\n 'customfield_20807',\n 'customfield_20808',\n 'customfield_20809',\n 'customfield_20810',\n 'customfield_20811',\n 'customfield_20812',\n 'customfield_20813',\n 'customfield_20814',\n 'customfield_20815',\n 'customfield_20816',\n 'customfield_20817',\n 'customfield_20818',\n 'customfield_20819',\n 'customfield_20820',\n 'customfield_20821',\n 'customfield_20822',\n 'customfield_20823',\n 'customfield_20824',\n 'customfield_20825',\n 'customfield_20826',\n 'customfield_20827',\n 'customfield_20828',\n 'customfield_20829',\n 'customfield_20830',\n 'customfield_20831',\n 'customfield_20832',\n 'customfield_20833',\n 'customfield_20834',\n 'customfield_20835',\n 'customfield_20836',\n 'customfield_20837',\n 'customfield_20838',\n 'customfield_20839',\n 'customfield_20840',\n 'customfield_20841',\n 'customfield_20842',\n 'customfield_20843',\n 'customfield_20845',\n 'customfield_20846',\n 'customfield_20847',\n 'customfield_20848',\n 'customfield_20849',\n 'customfield_20850',\n 'customfield_20851',\n 'customfield_20852',\n 'customfield_20900',\n 'customfield_21000',\n 'customfield_21001',\n 'customfield_21002',\n 'customfield_21100',\n 'customfield_21205',\n 'customfield_21400',\n 'customfield_21401',\n 'customfield_21402',\n 'customfield_21500',\n 'customfield_21501',\n 'customfield_21601',\n 'customfield_21602',\n 'customfield_21604',\n 'customfield_21605',\n 'customfield_21608',\n 'customfield_21609',\n 'customfield_21704',\n 'customfield_21800',\n 'customfield_21801',\n 'customfield_21802',\n 'customfield_21803',\n 'customfield_21804',\n 'customfield_22002',\n 'customfield_22003',\n 'customfield_22100',\n 'customfield_22101',\n 'customfield_22200',\n 'customfield_22201',\n 'customfield_22202',\n 'customfield_22300',\n 'customfield_22301',\n 'customfield_22302',\n 'customfield_22303',\n 'customfield_22304',\n 'customfield_22305',\n 'customfield_22400',\n 'customfield_22401',\n 'customfield_22402',\n 'customfield_22403',\n 'customfield_22404',\n 'customfield_22405',\n 'customfield_22501',\n 'customfield_22502',\n 'customfield_22503',\n 'customfield_22604',\n 'customfield_22605',\n 'customfield_22606',\n 'customfield_22607',\n 'customfield_22608',\n 'customfield_22609',\n 'customfield_22610',\n 'customfield_22611',\n 'customfield_22612',\n 'customfield_22613',\n 'customfield_22614',\n 'customfield_22615',\n 'customfield_22616',\n 'customfield_22617',\n 'customfield_22618',\n 'customfield_22619',\n 'customfield_22620',\n 'customfield_22621',\n 'customfield_22622',\n 'customfield_22623',\n 'customfield_22624',\n 'customfield_22625',\n 'customfield_22626',\n 'customfield_22627',\n 'customfield_22628',\n 'customfield_22629',\n 'customfield_22630',\n 'customfield_22631',\n 'customfield_22632',\n 'customfield_22633',\n 'customfield_22634',\n 'customfield_22635',\n 'customfield_22636',\n 'customfield_22637',\n 'customfield_22638',\n 'customfield_22639',\n 'customfield_22640',\n 'customfield_22641',\n 'customfield_22642',\n 'customfield_22643',\n 'customfield_22644',\n 'customfield_22645',\n 'customfield_22646',\n 'customfield_22647',\n 'customfield_22648',\n 'customfield_22649',\n 'customfield_22650',\n 'customfield_22651',\n 'customfield_22652',\n 'customfield_22653',\n 'customfield_22654',\n 'customfield_22655',\n 'customfield_22656',\n 'customfield_22657',\n 'customfield_22658',\n 'customfield_22659',\n 'customfield_22660',\n 'customfield_22661',\n 'customfield_22662',\n 'customfield_22663',\n 'customfield_22664',\n 'customfield_22665',\n 'customfield_22666',\n 'customfield_22667',\n 'customfield_22668',\n 'customfield_22669',\n 'customfield_22670',\n 'customfield_22671',\n 'customfield_22672',\n 'customfield_22673',\n 'customfield_22674',\n 'customfield_22675',\n 'customfield_22676',\n 'customfield_22677',\n 'customfield_22678',\n 'customfield_22679',\n 'customfield_22700',\n 'description',\n 'duedate',\n 'environment',\n 'fixVersions',\n 'issuelinks',\n 'issuetype',\n 'labels',\n 'lastViewed',\n 'parent',\n 'priority',\n 'progress',\n 'project',\n 'reporter',\n 'resolution',\n 'resolutiondate',\n 'status',\n 'subtasks',\n 'summary',\n 'timeestimate',\n 'timeoriginalestimate',\n 'timespent',\n 'timetracking',\n 'updated',\n 'votes',\n 'watches',\n 'worklog',\n 'workratio']"
      ]
     },
     "execution_count": 18,
     "metadata": {},
     "output_type": "execute_result"
    }
   ],
   "source": [
    "dir(issue.fields)"
   ]
  },
  {
   "cell_type": "code",
   "execution_count": 21,
   "metadata": {
    "collapsed": false,
    "deletable": true,
    "editable": true
   },
   "outputs": [
    {
     "data": {
      "text/plain": [
       "'customfield_11700'"
      ]
     },
     "execution_count": 21,
     "metadata": {},
     "output_type": "execute_result"
    }
   ],
   "source": [
    "jira.get_field_name(\"Classification\")"
   ]
  },
  {
   "cell_type": "code",
   "execution_count": 2,
   "metadata": {
    "collapsed": false,
    "deletable": true,
    "editable": true
   },
   "outputs": [
    {
     "data": {
      "text/plain": [
       "'Team'"
      ]
     },
     "execution_count": 2,
     "metadata": {},
     "output_type": "execute_result"
    }
   ],
   "source": [
    "jira.jira_field_lookup['customfield_12000']\n"
   ]
  },
  {
   "cell_type": "code",
   "execution_count": 99,
   "metadata": {
    "collapsed": false,
    "deletable": true,
    "editable": true
   },
   "outputs": [],
   "source": [
    "def readout(jira, item):\n",
    "    result = {}\n",
    "    for field in dir(item):\n",
    "        if field.startswith(\"__\")\\\n",
    "            or field.startswith(\"TimeTracking\")\\\n",
    "                or getattr(item, field) is None:\n",
    "            continue\n",
    "        value = getattr(item, field)\n",
    "        name = field\n",
    "        try:\n",
    "            name = jira.jira_field_lookup[field]\n",
    "        except:\n",
    "            pass\n",
    "        if name.startswith(\"Time\"):\n",
    "            continue\n",
    "        result[name] = value\n",
    "    \n",
    "    \n",
    "    return result\n"
   ]
  },
  {
   "cell_type": "code",
   "execution_count": 110,
   "metadata": {
    "deletable": true,
    "editable": true
   },
   "outputs": [
    {
     "ename": "KeyError",
     "evalue": "1",
     "traceback": [
      "\u001b[1;31m---------------------------------------------------------------------------\u001b[0m",
      "\u001b[1;31mKeyError\u001b[0m                                  Traceback (most recent call last)",
      "\u001b[1;32m<ipython-input-110-f8c07c12cfc5>\u001b[0m in \u001b[0;36m<module>\u001b[1;34m()\u001b[0m\n\u001b[0;32m      1\u001b[0m \u001b[0mresult\u001b[0m \u001b[1;33m=\u001b[0m \u001b[0mreadout\u001b[0m\u001b[1;33m(\u001b[0m\u001b[0mjira\u001b[0m\u001b[1;33m,\u001b[0m \u001b[0missue\u001b[0m\u001b[1;33m.\u001b[0m\u001b[0mfields\u001b[0m\u001b[1;33m)\u001b[0m\u001b[1;33m\u001b[0m\u001b[0m\n\u001b[1;32m----> 2\u001b[1;33m \u001b[0mdf\u001b[0m \u001b[1;33m=\u001b[0m \u001b[0mpd\u001b[0m\u001b[1;33m.\u001b[0m\u001b[0mDataFrame\u001b[0m\u001b[1;33m(\u001b[0m\u001b[1;33m[\u001b[0m\u001b[0mresult\u001b[0m\u001b[1;33m[\u001b[0m\u001b[0mkey\u001b[0m\u001b[1;33m]\u001b[0m \u001b[1;32mfor\u001b[0m \u001b[0mkey\u001b[0m \u001b[1;32min\u001b[0m \u001b[1;33m[\u001b[0m\u001b[1;36m1\u001b[0m\u001b[1;33m,\u001b[0m\u001b[1;36m2\u001b[0m\u001b[1;33m,\u001b[0m\u001b[1;36m3\u001b[0m\u001b[1;33m,\u001b[0m\u001b[1;36m4\u001b[0m\u001b[1;33m]\u001b[0m\u001b[1;33m]\u001b[0m\u001b[1;33m,\u001b[0m \u001b[0mcolumns\u001b[0m\u001b[1;33m=\u001b[0m\u001b[1;33m[\u001b[0m\u001b[0mkey\u001b[0m \u001b[1;32mfor\u001b[0m \u001b[0mkey\u001b[0m \u001b[1;32min\u001b[0m \u001b[1;34m\"ABCD\"\u001b[0m\u001b[1;33m]\u001b[0m\u001b[1;33m)\u001b[0m\u001b[1;33m\u001b[0m\u001b[0m\n\u001b[0m",
      "\u001b[1;32m<ipython-input-110-f8c07c12cfc5>\u001b[0m in \u001b[0;36m<listcomp>\u001b[1;34m(.0)\u001b[0m\n\u001b[0;32m      1\u001b[0m \u001b[0mresult\u001b[0m \u001b[1;33m=\u001b[0m \u001b[0mreadout\u001b[0m\u001b[1;33m(\u001b[0m\u001b[0mjira\u001b[0m\u001b[1;33m,\u001b[0m \u001b[0missue\u001b[0m\u001b[1;33m.\u001b[0m\u001b[0mfields\u001b[0m\u001b[1;33m)\u001b[0m\u001b[1;33m\u001b[0m\u001b[0m\n\u001b[1;32m----> 2\u001b[1;33m \u001b[0mdf\u001b[0m \u001b[1;33m=\u001b[0m \u001b[0mpd\u001b[0m\u001b[1;33m.\u001b[0m\u001b[0mDataFrame\u001b[0m\u001b[1;33m(\u001b[0m\u001b[1;33m[\u001b[0m\u001b[0mresult\u001b[0m\u001b[1;33m[\u001b[0m\u001b[0mkey\u001b[0m\u001b[1;33m]\u001b[0m \u001b[1;32mfor\u001b[0m \u001b[0mkey\u001b[0m \u001b[1;32min\u001b[0m \u001b[1;33m[\u001b[0m\u001b[1;36m1\u001b[0m\u001b[1;33m,\u001b[0m\u001b[1;36m2\u001b[0m\u001b[1;33m,\u001b[0m\u001b[1;36m3\u001b[0m\u001b[1;33m,\u001b[0m\u001b[1;36m4\u001b[0m\u001b[1;33m]\u001b[0m\u001b[1;33m]\u001b[0m\u001b[1;33m,\u001b[0m \u001b[0mcolumns\u001b[0m\u001b[1;33m=\u001b[0m\u001b[1;33m[\u001b[0m\u001b[0mkey\u001b[0m \u001b[1;32mfor\u001b[0m \u001b[0mkey\u001b[0m \u001b[1;32min\u001b[0m \u001b[1;34m\"ABCD\"\u001b[0m\u001b[1;33m]\u001b[0m\u001b[1;33m)\u001b[0m\u001b[1;33m\u001b[0m\u001b[0m\n\u001b[0m",
      "\u001b[1;31mKeyError\u001b[0m: 1"
     ],
     "output_type": "error"
    }
   ],
   "source": [
    "result = readout(jira, issue.fields)\n",
    "df = pd.DataFrame([result[key] for key in [1,2,3,4]], columns=[key for key in \"ABCD\"])"
   ]
  },
  {
   "cell_type": "code",
   "execution_count": 106,
   "metadata": {
    "collapsed": false,
    "deletable": true,
    "editable": true
   },
   "outputs": [
    {
     "data": {
      "text/plain": [
       "[[jira.resources.PropertyHolder],\n [[]],\n [jira.resources.PropertyHolder],\n [[<JIRA Component: name='USB', id='17983'>]],\n ['2014-05-06T21:19:32.397-0700'],\n [<JIRA User: displayName='Blouin, Pierre J', key='pjblouin', name='pjblouin'>],\n [[<JIRA CustomFieldOption: value='K', id='60798'>]],\n [<JIRA CustomFieldOption: value=\"ww22'14\", id='17701'>],\n ['76701'],\n [[<JIRA CustomFieldOption: value='Functional', id='17603'>]],\n [<JIRA CustomFieldOption: value='OTC Scrum Team', id='63142'>],\n [<JIRA CustomFieldOption: value='Weekly', id='14672'>],\n [[<JIRA CustomFieldOption: value='Broadwell', id='17595'>]],\n ['0.0'],\n [<JIRA CustomFieldOption: value='Platform Agnostic', id='22500'>],\n [<JIRA CustomFieldOption: value='Kit Kat', id='17601'>],\n [['sys_etcp(sys_etcp)', 'pjblouin(pjblouin)', 'pbogdanx(bplesa)']],\n ['0.0'],\n ['10016_*:*_1_*:*_259006423_*|*_1_*:*_1_*:*_1225677793_*|*_6_*:*_1_*:*_0_*|*_10021_*:*_1_*:*_795279597'],\n [<JIRA CustomFieldOption: value='Standard C', id='18407'>],\n [<JIRA CustomFieldOption: value='Production', id='18413'>],\n ['Universal Serial Bus'],\n ['0|i0np8n:'],\n [[<JIRA CustomFieldOption: value='Base', id='25713'>]],\n ['Linked to Enterprise Tester requirement - Requirement: https://et03.devtools.intel.com/#/requirement/edit/dc8ea1b9-f270-4185-9a50-a3c60129b831 (Name: [K][Broadwell] USB-Host)\\r\\n\\r\\nCreated By: JESSICA STREICHER (jstreic1)'],\n ['2014-08-23T21:19:32.397-0700'],\n ['1.0'],\n ['The Intel Android platform must support USB Host mode and must meet the Android CDD requirements for supporting USB Host including support for USB Host APIs as documented in the Android SDK and declaring support for the hardware feature.'],\n [[<JIRA Version: name='Unassigned', id='15824'>]],\n [[]],\n [<JIRA IssueType: name='E-Feature', id='34'>],\n [[]],\n [<JIRA Issue: key='AREQ-179', id='70497'>],\n [<JIRA Priority: name='P1-Stopper', id='2'>],\n [jira.resources.PropertyHolder],\n [<JIRA Project: key='AREQ', name='Android Requirements', id='13537'>],\n [<JIRA User: displayName='Blouin, Pierre J', key='pjblouin', name='pjblouin'>],\n [<JIRA Resolution: name='Fixed', id='1'>],\n ['2014-06-02T06:38:56.123-0700'],\n [<JIRA Status: name='Closed', id='6'>],\n [[]],\n ['[K][Broadwell] USB-Host'],\n ['2015-08-26T14:36:28.297-0700'],\n [<JIRA Votes: votes=0>],\n [<JIRA Watchers at 567264048464>],\n [jira.resources.PropertyHolder],\n [-1]]"
      ]
     },
     "execution_count": 106,
     "metadata": {},
     "output_type": "execute_result"
    }
   ],
   "source": [
    "[[result[key]] for key in result]"
   ]
  },
  {
   "cell_type": "code",
   "execution_count": 98,
   "metadata": {
    "collapsed": false,
    "deletable": true,
    "editable": true
   },
   "outputs": [
    {
     "data": {
      "text/html": [
       "<div>\n",
       "<table border=\"1\" class=\"dataframe\">\n",
       "  <thead>\n",
       "    <tr style=\"text-align: right;\">\n",
       "      <th></th>\n",
       "    </tr>\n",
       "  </thead>\n",
       "  <tbody>\n",
       "  </tbody>\n",
       "</table>\n",
       "</div>"
      ],
      "text/plain": [
       "<div>\n",
       "<table border=\"1\" class=\"dataframe\">\n",
       "  <thead>\n",
       "    <tr style=\"text-align: right;\">\n",
       "      <th></th>\n",
       "    </tr>\n",
       "  </thead>\n",
       "  <tbody>\n",
       "  </tbody>\n",
       "</table>\n",
       "</div>"
      ]
     },
     "execution_count": 98,
     "metadata": {},
     "output_type": "execute_result"
    }
   ],
   "source": [
    "df"
   ]
  },
  {
   "cell_type": "code",
   "execution_count": 99,
   "metadata": {
    "collapsed": false,
    "deletable": true,
    "editable": true
   },
   "outputs": [],
   "source": [
    ""
   ]
  },
  {
   "cell_type": "code",
   "execution_count": 99,
   "metadata": {
    "collapsed": true,
    "deletable": true,
    "editable": true
   },
   "outputs": [],
   "source": []
  },
  {
   "cell_type": "code",
   "execution_count": 99,
   "metadata": {},
   "outputs": [],
   "source": []
  },
  {
   "cell_type": "code",
   "execution_count": null,
   "metadata": {},
   "outputs": [],
   "source": []
  }
 ],
 "metadata": {
  "kernelspec": {
   "display_name": "Python 3",
   "language": "python",
   "name": "python3"
  },
  "language_info": {
   "codemirror_mode": {
    "name": "ipython",
    "version": 3
   },
   "file_extension": ".py",
   "mimetype": "text/x-python",
   "name": "python",
   "nbconvert_exporter": "python",
   "pygments_lexer": "ipython3",
   "version": "3.6.1"
  }
 },
 "nbformat": 4,
 "nbformat_minor": 0
}
